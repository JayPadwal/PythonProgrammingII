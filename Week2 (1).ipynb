{
  "nbformat": 4,
  "nbformat_minor": 0,
  "metadata": {
    "colab": {
      "provenance": [],
      "collapsed_sections": []
    },
    "kernelspec": {
      "name": "python3",
      "display_name": "Python 3"
    },
    "language_info": {
      "name": "python"
    }
  },
  "cells": [
    {
      "cell_type": "markdown",
      "source": [
        "#Section A"
      ],
      "metadata": {
        "id": "FaPGmM-Z51ZQ"
      }
    },
    {
      "cell_type": "markdown",
      "source": [
        "1.Create a function that takes three integer arguments (a, b, c) and returns the amount of integers which are of equal value.\n"
      ],
      "metadata": {
        "id": "Xc-rw8l0EVWx"
      }
    },
    {
      "cell_type": "code",
      "execution_count": null,
      "metadata": {
        "id": "iwMhqv4X882x",
        "colab": {
          "base_uri": "https://localhost:8080/"
        },
        "outputId": "6b70a301-75e3-48c1-c92f-733fc94dc436"
      },
      "outputs": [
        {
          "output_type": "stream",
          "name": "stdout",
          "text": [
            "0\n"
          ]
        }
      ],
      "source": [
        "def number(x,y,z,) :\n",
        "  if x == y and x == z:\n",
        "    return 3\n",
        "  elif x==y or x==z:\n",
        "    return 2\n",
        "  else:\n",
        "    return 0\n",
        "print(number(2,3,0))"
      ]
    },
    {
      "cell_type": "markdown",
      "source": [
        "2.Write a function that converts a dictionary into a list of keys-values tuples."
      ],
      "metadata": {
        "id": "SFEYqA7P77sb"
      }
    },
    {
      "cell_type": "code",
      "source": [
        "def converter():\n",
        "  diction = {1: \"2\", 3: \"4\", 5: \"6\", 7: \"8\" }\n",
        "  list1 = [(k, v) for k, v in diction.items()]\n",
        "  return list1\n",
        "converter()"
      ],
      "metadata": {
        "colab": {
          "base_uri": "https://localhost:8080/"
        },
        "id": "cVdL7Oj36u6S",
        "outputId": "69602dea-748f-4794-e7e0-93c5f1ee3642"
      },
      "execution_count": null,
      "outputs": [
        {
          "output_type": "execute_result",
          "data": {
            "text/plain": [
              "[(1, '2'), (3, '4'), (5, '6'), (7, '8')]"
            ]
          },
          "metadata": {},
          "execution_count": 13
        }
      ]
    },
    {
      "cell_type": "markdown",
      "source": [
        "3. Write a function that creates a dictionary with each (key, value) pair being the (lower case, upper case) versions of a letter, respectively."
      ],
      "metadata": {
        "id": "1SfeCJHU3tj0"
      }
    },
    {
      "cell_type": "code",
      "source": [
        "list2 = ['j','a','y']\n",
        "x = {}\n",
        "\n",
        "for letters in list2:\n",
        "  b = letters.upper()\n",
        "  x.update({letters:b})\n",
        "print(x)"
      ],
      "metadata": {
        "colab": {
          "base_uri": "https://localhost:8080/"
        },
        "id": "myigwqBy3t4g",
        "outputId": "79a06e2c-0695-4ddf-84a8-68a55390ecb2"
      },
      "execution_count": 1,
      "outputs": [
        {
          "output_type": "stream",
          "name": "stdout",
          "text": [
            "{'j': 'J', 'a': 'A', 'y': 'Y'}\n"
          ]
        }
      ]
    },
    {
      "cell_type": "markdown",
      "source": [
        "4. Write a function, that replaces all vowels in a string with a specified vowel.\n"
      ],
      "metadata": {
        "id": "sxuBC0S032x8"
      }
    },
    {
      "cell_type": "code",
      "source": [
        "print(\"Enter a String: \")\n",
        "string = input()\n",
        "\n",
        "print(\"Enter a char: \")\n",
        "charac = input()\n",
        "\n",
        "newstring1 = \"\"\n",
        "for i in range(len(string)):\n",
        "    if string[i]=='a' or string[i]=='e' or string[i]=='i' or string[i]=='o' or string[i]=='u':\n",
        "        newstring = newstr + charac\n",
        "    else:\n",
        "        newstring = newstr + str[i]\n",
        "\n",
        "print(\"Original String:\", string)\n",
        "print(\"Newly modified String:\", newstring)"
      ],
      "metadata": {
        "colab": {
          "base_uri": "https://localhost:8080/"
        },
        "id": "8BRO4RI-33BA",
        "outputId": "7191ee81-cf6c-4b07-c802-283a908ed9f9"
      },
      "execution_count": null,
      "outputs": [
        {
          "output_type": "stream",
          "name": "stdout",
          "text": [
            "Enter the String: \n",
            "Prasad\n",
            "Enter a character: \n",
            "x\n",
            "\n",
            "Original String: Prasad\n",
            "New String: Prxsxd\n"
          ]
        }
      ]
    },
    {
      "cell_type": "markdown",
      "source": [
        "5.Create a function that takes a string as input and capitalizes a letter if its ASCII code is even and returns its lower case version if its ASCII code is odd.\n"
      ],
      "metadata": {
        "id": "czA9-8FY5eR-"
      }
    },
    {
      "cell_type": "code",
      "source": [
        "def capitalize(st):\n",
        "  result = []\n",
        "  for index, c in enumerate(st):\n",
        "    if index % 2 == 0:\n",
        "      result.append(c.upper())\n",
        "    else:\n",
        "      result.append(c.lower())\n",
        "  return '' .join(result)\n",
        "print(capitalize(\"this is week two work.\"))"
      ],
      "metadata": {
        "colab": {
          "base_uri": "https://localhost:8080/"
        },
        "id": "j_WxsALW5eh-",
        "outputId": "9d17c291-c185-4159-8f8c-7ed55fa960b7"
      },
      "execution_count": null,
      "outputs": [
        {
          "output_type": "stream",
          "name": "stdout",
          "text": [
            "ThIs iS WeEk tWo wOrK.\n"
          ]
        }
      ]
    },
    {
      "cell_type": "markdown",
      "source": [
        "#Section B"
      ],
      "metadata": {
        "id": "gswm-Qxx7948"
      }
    },
    {
      "cell_type": "markdown",
      "source": [
        "1. Write a Python Program to Find the Sum of Natural Numbers?"
      ],
      "metadata": {
        "id": "uGQVO-6Z8BKx"
      }
    },
    {
      "cell_type": "code",
      "source": [
        "def sumofnum(n):\n",
        "   if n <= 1:\n",
        "       return n\n",
        "   else:\n",
        "       return n + sumofnum(n-1)\n",
        "x = int(input(\"Enter a number: \"))\n",
        "result = sumofnum(x)\n",
        "print(result)"
      ],
      "metadata": {
        "colab": {
          "base_uri": "https://localhost:8080/"
        },
        "id": "q98yPcRX8BgV",
        "outputId": "533ad491-236b-4309-ce29-11ae2140a4c3"
      },
      "execution_count": null,
      "outputs": [
        {
          "output_type": "stream",
          "name": "stdout",
          "text": [
            "Enter a number: 10\n",
            "55\n"
          ]
        }
      ]
    },
    {
      "cell_type": "markdown",
      "source": [
        "2.Write a Python Program to Find the Factorial of a Number?"
      ],
      "metadata": {
        "id": "uSrhbOh69sdj"
      }
    },
    {
      "cell_type": "code",
      "source": [
        "def factorial(a):\n",
        "  if a==1:\n",
        "    return 1\n",
        "  else:\n",
        "    return a*factorial(a-1)\n",
        "\n",
        "x = int(input())\n",
        "result = factorial(x)\n",
        "print(result)"
      ],
      "metadata": {
        "id": "_-eo21tP9soN"
      },
      "execution_count": null,
      "outputs": []
    },
    {
      "cell_type": "markdown",
      "source": [
        "3.Write a Python Program to Print all Prime Numbers in an Interval of 1-10000?"
      ],
      "metadata": {
        "id": "VGJpq-Dw_VaK"
      }
    },
    {
      "cell_type": "code",
      "source": [
        "def prime():\n",
        "  lower_limit = 1\n",
        "  upper_limit = 10000\n",
        "\n",
        "  for num in range(lower_limit, upper_limit+ 1):\n",
        "    if num > 1:\n",
        "        for i in range(2, num):\n",
        "            if (num % i) == 0:\n",
        "                break\n",
        "        else:\n",
        "          print(num)\n",
        "prime()\n"
      ],
      "metadata": {
        "id": "r7mJAEJz_UTr"
      },
      "execution_count": null,
      "outputs": []
    },
    {
      "cell_type": "markdown",
      "source": [
        "4.Write a Python Program to Display the multiplication Table?"
      ],
      "metadata": {
        "id": "TTuUM4hiBKHw"
      }
    },
    {
      "cell_type": "code",
      "source": [
        "def table():\n",
        "  number = int(input())\n",
        "  for i in range(1,11):\n",
        "    print(number,\" x \",i,\" = \",number*i)\n",
        "table()"
      ],
      "metadata": {
        "colab": {
          "base_uri": "https://localhost:8080/"
        },
        "id": "ayHCPbW7BKSs",
        "outputId": "f68229be-cfd7-4d0d-b5b1-db5142c21fc6"
      },
      "execution_count": null,
      "outputs": [
        {
          "output_type": "stream",
          "name": "stdout",
          "text": [
            "12\n",
            "12  x  1  =  12\n",
            "12  x  2  =  24\n",
            "12  x  3  =  36\n",
            "12  x  4  =  48\n",
            "12  x  5  =  60\n",
            "12  x  6  =  72\n",
            "12  x  7  =  84\n",
            "12  x  8  =  96\n",
            "12  x  9  =  108\n",
            "12  x  10  =  120\n"
          ]
        }
      ]
    },
    {
      "cell_type": "markdown",
      "source": [
        "5.Write a Python Program to find largest element in an array?\n"
      ],
      "metadata": {
        "id": "hdHeh4kYFDt0"
      }
    },
    {
      "cell_type": "code",
      "source": [
        "def abc():\n",
        "  arr = [12, 3, 4, 15, 25, 923]\n",
        "  largest = 0\n",
        "  for i in range(len(arr)):\n",
        "    if arr[i] > largest:\n",
        "      largest = arr[i]\n",
        "  print(largest)\n",
        "abc()"
      ],
      "metadata": {
        "colab": {
          "base_uri": "https://localhost:8080/"
        },
        "id": "COIll445FD_D",
        "outputId": "cf478909-7a4e-426a-d1a8-23dcfcd73f7e"
      },
      "execution_count": null,
      "outputs": [
        {
          "output_type": "stream",
          "name": "stdout",
          "text": [
            "923\n"
          ]
        }
      ]
    }
  ]
}